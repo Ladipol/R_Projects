{
 "cells": [
  {
   "cell_type": "markdown",
   "metadata": {},
   "source": [
    "PROCESS"
   ]
  },
  {
   "cell_type": "code",
   "execution_count": null,
   "metadata": {
    "vscode": {
     "languageId": "r"
    }
   },
   "outputs": [],
   "source": [
    "# Install needed packages\n",
    "install.packages(\"tidyverse\", dependencies = TRUE)\n",
    "install.packages(\"lubridate\")\n",
    "install.packages(\"geosphere\")\n"
   ]
  },
  {
   "cell_type": "code",
   "execution_count": null,
   "metadata": {
    "vscode": {
     "languageId": "r"
    }
   },
   "outputs": [],
   "source": [
    "# Load the packages\n",
    "library(readr)\n",
    "library(dplyr)\n",
    "library(purrr)\n",
    "library(tidyr)\n",
    "library(lubridate)\n",
    "library(ggplot2)"
   ]
  },
  {
   "cell_type": "code",
   "execution_count": null,
   "metadata": {
    "vscode": {
     "languageId": "r"
    }
   },
   "outputs": [],
   "source": [
    "# Set the working directory to the location of the downloaded data\n",
    "setwd(\"/home/ladipo/Desktop/Data Analytic/DataSets/Cyclic_Data\")"
   ]
  },
  {
   "cell_type": "code",
   "execution_count": null,
   "metadata": {
    "vscode": {
     "languageId": "r"
    }
   },
   "outputs": [],
   "source": [
    "# List all CSV files in the working directory set above\n",
    "files <- list.files(pattern = \"*.csv\")"
   ]
  },
  {
   "cell_type": "code",
   "execution_count": null,
   "metadata": {
    "vscode": {
     "languageId": "r"
    }
   },
   "outputs": [],
   "source": [
    "# Read each CSV file and store them in a list for efficient CSV reading\n",
    "data_list <- lapply(files, read_csv)"
   ]
  },
  {
   "cell_type": "code",
   "execution_count": null,
   "metadata": {
    "vscode": {
     "languageId": "r"
    }
   },
   "outputs": [],
   "source": [
    "# Combine the list of data frames into a single data frame using bind_rows\n",
    "combined_data <- bind_rows(data_list)"
   ]
  },
  {
   "cell_type": "code",
   "execution_count": null,
   "metadata": {
    "vscode": {
     "languageId": "r"
    }
   },
   "outputs": [],
   "source": [
    "head(combined_data)"
   ]
  },
  {
   "cell_type": "code",
   "execution_count": null,
   "metadata": {
    "vscode": {
     "languageId": "r"
    }
   },
   "outputs": [],
   "source": [
    "# View the combined data\n",
    "View(combined_data)"
   ]
  },
  {
   "cell_type": "code",
   "execution_count": null,
   "metadata": {
    "vscode": {
     "languageId": "r"
    }
   },
   "outputs": [],
   "source": [
    "# Structure of the data\n",
    "str(combined_data)"
   ]
  },
  {
   "cell_type": "markdown",
   "metadata": {
    "vscode": {
     "languageId": "r"
    }
   },
   "source": [
    "# Print the original data frame\n",
    "print(\"Original Data Frame:\")\n",
    "print(combined_data)\n",
    "\n",
    "# Identify duplicate rows\n",
    "duplicate_rows <- combined_data[duplicated(combined_data), ]\n",
    "print(\"Duplicate Rows:\")\n",
    "print(duplicate_rows)\n",
    "\n",
    "# Create a copy of the original data frame\n",
    "combined_data <- combined_data\n",
    "\n",
    "# Remove duplicate rows from the copy\n",
    "combined_data <- combined_data[!duplicated(combined_data), ]\n",
    "\n",
    "print(\"Data Frame after Removing Duplicates:\")\n",
    "print(combined_data)\n"
   ]
  },
  {
   "cell_type": "markdown",
   "metadata": {
    "vscode": {
     "languageId": "r"
    }
   },
   "source": [
    "# Print the original data frame\n",
    "print(\"Original Data Frame:\")\n",
    "print(combined_data)\n",
    "\n",
    "# Identify missing values\n",
    "missing_values <- is.na(combined_data)\n",
    "print(\"Missing Values in Data Frame:\")\n",
    "missing_values\n",
    "\n",
    "# Create a copy of the original data frame\n",
    "combined_data <- combined_data\n",
    "\n",
    "# Fill missing values in the copy\n",
    "# For numeric columns, fill with mean\n",
    "combined_data$started_at[is.na(combined_data$start_station_id)] <- mean(combined_data$start_station_id, na.rm = TRUE)\n",
    "\n",
    "# For character columns, fill with \"Unknown\"\n",
    "combined_data$start_station_name[is.na(combined_data$start_station_name)] <- \"Unknown\"\n",
    "\n",
    "# For character columns, fill with \"Unknown\"\n",
    "combined_data$start_station_id[is.na(combined_data$start_station_id)] <- \"Unknown\"\n",
    "\n",
    "# For numeric columns, fill with mean\n",
    "# combined_data$end_station_id[is.na(combined_data$end_station_id)] <- mean(combined_data$end_station_id, na.rm = TRUE)\n",
    "\n",
    "# For character columns, fill with \"Unknown\"\n",
    "combined_data$end_station_name[is.na(combined_data$end_station_name)] <- \"Unknown\"\n",
    "\n",
    "# For character columns, fill with \"Unknown\"\n",
    "combined_data$end_station_id[is.na(combined_data$end_station_id)] <- \"Unknown\"\n",
    "\n",
    "print(\"Data Frame after Filling Missing Values:\")\n",
    "print(combined_data)"
   ]
  },
  {
   "cell_type": "code",
   "execution_count": null,
   "metadata": {
    "vscode": {
     "languageId": "r"
    }
   },
   "outputs": [],
   "source": [
    "# Convert to datetime using lubridate\n",
    "combined_data$started_at <- ymd_hms(combined_data$started_at)\n",
    "combined_data$ended_at <- ymd_hms(combined_data$ended_at)"
   ]
  },
  {
   "cell_type": "code",
   "execution_count": null,
   "metadata": {
    "vscode": {
     "languageId": "r"
    }
   },
   "outputs": [],
   "source": [
    "# Calculate the ride length time\n",
    "combined_data$time_diff <- as.duration(interval(combined_data$started_at, combined_data$ended_at))"
   ]
  },
  {
   "cell_type": "code",
   "execution_count": null,
   "metadata": {
    "vscode": {
     "languageId": "r"
    }
   },
   "outputs": [],
   "source": [
    "# Convert the duration to a more readable format, if necessary\n",
    "combined_data$ride_length <- as.numeric(combined_data$time_diff, units = \"mins\")"
   ]
  },
  {
   "cell_type": "code",
   "execution_count": null,
   "metadata": {
    "vscode": {
     "languageId": "r"
    }
   },
   "outputs": [],
   "source": [
    "# Extract the day of the week as a number (1 = Sunday, 2 = Monday, ...)\n",
    "combined_data$day_of_week_num <- wday(combined_data$started_at)"
   ]
  },
  {
   "cell_type": "code",
   "execution_count": null,
   "metadata": {
    "vscode": {
     "languageId": "r"
    }
   },
   "outputs": [],
   "source": [
    "# Extract the day of the week as a label (Sunday, Monday, ...)\n",
    "combined_data$day_of_week_label <- wday(combined_data$started_at, label = TRUE)"
   ]
  },
  {
   "cell_type": "code",
   "execution_count": null,
   "metadata": {
    "vscode": {
     "languageId": "r"
    }
   },
   "outputs": [],
   "source": [
    "# Extract the month number and name\n",
    "combined_data$month_number <- month(combined_data$started_at)\n",
    "combined_data$month_name <- month(combined_data$started_at, label = TRUE, abbr = FALSE)"
   ]
  },
  {
   "cell_type": "code",
   "execution_count": null,
   "metadata": {
    "vscode": {
     "languageId": "r"
    }
   },
   "outputs": [],
   "source": [
    "library(geosphere)\n",
    "\n",
    "# Calculate distance in meters\n",
    "combined_data$distance <- distHaversine(p1 = cbind(combined_data$start_lng, combined_data$start_lat), \n",
    "                              p2 = cbind(combined_data$end_lng, combined_data$end_lat))\n",
    "\n",
    "head(combined_data)"
   ]
  },
  {
   "cell_type": "code",
   "execution_count": null,
   "metadata": {
    "vscode": {
     "languageId": "r"
    }
   },
   "outputs": [],
   "source": [
    "# Filter out rows with NA in the 'started_at' or 'ended_at' columns\n",
    "combined_data_clean <- combined_data %>%\n",
    "  filter(!is.na(started_at) & !is.na(ended_at))\n",
    "\n",
    "head(combined_data_clean)"
   ]
  },
  {
   "cell_type": "code",
   "execution_count": null,
   "metadata": {
    "vscode": {
     "languageId": "r"
    }
   },
   "outputs": [],
   "source": [
    "# Export dataframe to CSV file on my computer\n",
    "write.csv(combined_data_clean, file = \"/home/ladipo/Desktop/Data Analytic/Coursera Training/combined_data_clean_bike_vscode.csv\", row.names = FALSE)"
   ]
  },
  {
   "cell_type": "markdown",
   "metadata": {},
   "source": [
    "ANALYSIS"
   ]
  },
  {
   "cell_type": "code",
   "execution_count": null,
   "metadata": {
    "vscode": {
     "languageId": "r"
    }
   },
   "outputs": [],
   "source": [
    "# Combine grouping and summarizing of members and casual day of the week label\n",
    "combined_data_clean_month <- combined_data_clean %>%\n",
    "  group_by(month_name) %>%\n",
    "  summarize(\n",
    "    average_ride_length = ceiling(mean(ride_length)),\n",
    "    count = ceiling(n()/10000)\n",
    "  )\n",
    "\n",
    "View(combined_data_clean_month)"
   ]
  },
  {
   "cell_type": "code",
   "execution_count": null,
   "metadata": {
    "vscode": {
     "languageId": "r"
    }
   },
   "outputs": [],
   "source": [
    "# Plot the average ride length with custom colors and white background\n",
    "p1 <- ggplot(combined_data_clean_month, aes(x = month_name, y = average_ride_length)) +\n",
    "  geom_bar(stat = \"identity\", fill = \"#5F9EA0\") +  # Turquoise\n",
    "  geom_text(aes(label = average_ride_length), vjust = -0.5, size = 4, hjust = 1) +  # Add data labels\n",
    "  labs(title = \"Average Ride Length by Month of the Year\",\n",
    "       x = \"Month of the Year\",\n",
    "       y = \"Average Ride Length (minutes)\") +\n",
    "  theme_minimal() +\n",
    "  theme(\n",
    "    plot.title = element_text(size = 20, face = \"bold\"),\n",
    "    axis.text.x = element_text(size = 12, angle = 45, hjust = 1),\n",
    "    axis.text.y = element_text(size = 12),\n",
    "    axis.title = element_text(size = 14),\n",
    "    legend.text = element_text(size = 12),\n",
    "    plot.background = element_rect(fill = \"white\")\n",
    "    ) \n",
    "\n",
    "# Print both plots\n",
    "print(p1)\n",
    "\n"
   ]
  },
  {
   "cell_type": "code",
   "execution_count": null,
   "metadata": {
    "vscode": {
     "languageId": "r"
    }
   },
   "outputs": [],
   "source": [
    "# Plot the number of rides with custom colors and white background\n",
    "p2 <- ggplot(combined_data_clean_month, aes(x = month_name, y = count)) +\n",
    "  geom_bar(stat = \"identity\", fill = \"#FFA07A\") +  # Light Salmon\n",
    "  geom_text(aes(label = count), vjust = -0.5, size = 4, hjust = 1) +  # Add data labels\n",
    "  labs(title = \"Number of Rides by Month of the Year\",\n",
    "       x = \"Month of the Year\",\n",
    "       y = \"Number of Rides(10000)\") +\n",
    "  theme_minimal() +\n",
    "  theme(\n",
    "    plot.title = element_text(size = 16, face = \"bold\"),\n",
    "    axis.text.x = element_text(size = 12, angle = 45, hjust = 1),\n",
    "    axis.text.y = element_text(size = 12),\n",
    "    axis.title = element_text(size = 14),\n",
    "    legend.text = element_text(size = 12),\n",
    "    plot.background = element_rect(fill = \"white\")\n",
    "    ) \n",
    "\n",
    "# Print both plots\n",
    "print(p2)"
   ]
  },
  {
   "cell_type": "code",
   "execution_count": null,
   "metadata": {
    "vscode": {
     "languageId": "r"
    }
   },
   "outputs": [],
   "source": [
    "# Combine grouping and summarizing of members and casual day of the week label\n",
    "combined_data_clean_day <- combined_data_clean %>%\n",
    "  group_by(day_of_week_label) %>%\n",
    "  summarize(\n",
    "    mean_ride_length = ceiling(mean(ride_length)),\n",
    "    count = ceiling(n()/10000)\n",
    "  )\n",
    "\n",
    "View(combined_data_clean_day)"
   ]
  },
  {
   "cell_type": "code",
   "execution_count": null,
   "metadata": {
    "vscode": {
     "languageId": "r"
    }
   },
   "outputs": [],
   "source": [
    "# Load the necessary package\n",
    "library(ggplot2)\n",
    "\n",
    "# Plot the average ride length with custom colors and white background\n",
    "p1 <- ggplot(combined_data_clean_day, aes(x = day_of_week_label, y = mean_ride_length)) +\n",
    "  geom_bar(stat = \"identity\", fill = \"#5F9EA0\") +  # Turquoise\n",
    "  geom_text(aes(label = mean_ride_length), vjust = -0.5, size = 4, hjust = 1) +  # Add data labels\n",
    "  labs(title = \"Average Ride Length by Day of the Week\",\n",
    "       x = \"Day of the Week\",\n",
    "       y = \"Average Ride Length (minutes)\") +\n",
    "  theme_minimal() +\n",
    "  theme(\n",
    "    plot.title = element_text(size = 16, face = \"bold\"),\n",
    "    axis.text.x = element_text(size = 12, angle = 45, hjust = 1),\n",
    "    axis.text.y = element_text(size = 12),\n",
    "    axis.title = element_text(size = 14),\n",
    "    legend.text = element_text(size = 12),\n",
    "    plot.background = element_rect(fill = \"white\")\n",
    "    ) \n",
    "\n",
    "\n",
    "# Print both plots\n",
    "print(p1)\n"
   ]
  },
  {
   "cell_type": "code",
   "execution_count": null,
   "metadata": {
    "vscode": {
     "languageId": "r"
    }
   },
   "outputs": [],
   "source": [
    "# Plot the number of rides with custom colors and white background\n",
    "p2 <- ggplot(combined_data_clean_day, aes(x = day_of_week_label, y = count)) +\n",
    "  geom_bar(stat = \"identity\", fill = \"#FFA07A\") +  # Light Salmon\n",
    "  geom_text(aes(label = count), vjust = -0.5) +  # Add data labels\n",
    "  labs(title = \"Number of Rides by Day of the Week\",\n",
    "       x = \"Day of the Week\",\n",
    "       y = \"Number of Rides\") +\n",
    "  theme_minimal() +\n",
    "  theme(\n",
    "    plot.title = element_text(size = 16, face = \"bold\"),\n",
    "    axis.text.x = element_text(size = 12, angle = 45, hjust = 1),\n",
    "    axis.text.y = element_text(size = 12),\n",
    "    axis.title = element_text(size = 14),\n",
    "    legend.text = element_text(size = 12),\n",
    "    plot.background = element_rect(fill = \"white\")\n",
    "    ) \n",
    "\n",
    "# Print both plots\n",
    "print(p2)"
   ]
  },
  {
   "cell_type": "code",
   "execution_count": null,
   "metadata": {
    "vscode": {
     "languageId": "r"
    }
   },
   "outputs": [],
   "source": [
    "# Group by 'day_of_week_label' and count 'member' and 'casual'\n",
    "\n",
    "# Calculate counts and percentages\n",
    "member_casual <- combined_data_clean %>%\n",
    "  group_by(day_of_week_label) %>%\n",
    "  summarize(\n",
    "    total_member = sum(member_casual == \"member\"),\n",
    "    total_casual = sum(member_casual == \"casual\"),\n",
    "    percent_member = ceiling((total_member / sum(total_member + total_casual)) * 100),\n",
    "    percent_casual = ceiling((total_casual / sum(total_member + total_casual)) * 100)\n",
    "  )\n",
    "View(member_casual)"
   ]
  },
  {
   "cell_type": "code",
   "execution_count": null,
   "metadata": {
    "vscode": {
     "languageId": "r"
    }
   },
   "outputs": [],
   "source": [
    "# Reshape data for plotting\n",
    "member_casual_long <- member_casual %>%\n",
    "  pivot_longer(cols = c(percent_member, percent_casual),\n",
    "               names_to = \"type\",\n",
    "               values_to = \"percentage\")\n",
    "\n",
    "# Plotting the stacked bar chart\n",
    "ggplot(member_casual_long, aes(x = day_of_week_label, y = percentage, fill = type)) +\n",
    "  geom_bar(stat = \"identity\") +\n",
    "  geom_text(aes(label = percentage), vjust = -0.5, size = 4, hjust = 1) +  # Add data labels\n",
    "  labs(title = \"Percentage of Member and Casual Users by Day of the Week\",\n",
    "       x = \"Day of the Week\",\n",
    "       y = \"Percentage (%)\",\n",
    "       fill = \"User Type\") +\n",
    "  theme_minimal() +\n",
    "  theme(\n",
    "    plot.title = element_text(size = 16, face = \"bold\"),\n",
    "    axis.text.x = element_text(size = 12, angle = 45, hjust = 1),\n",
    "    axis.text.y = element_text(size = 12),\n",
    "    axis.title = element_text(size = 14),\n",
    "    legend.text = element_text(size = 12),\n",
    "    plot.background = element_rect(fill = \"white\")\n",
    "  )"
   ]
  },
  {
   "cell_type": "code",
   "execution_count": null,
   "metadata": {
    "vscode": {
     "languageId": "r"
    }
   },
   "outputs": [],
   "source": [
    "# Group by 'rideable_type' and count 'member' and 'casual'\n",
    "rideable_type_number <- combined_data_clean %>%\n",
    "  dplyr::group_by(rideable_type) %>%\n",
    "  dplyr::summarize(\n",
    "    member = sum(member_casual == \"member\"),\n",
    "    casual = sum(member_casual == \"casual\")\n",
    "  )\n",
    "\n",
    "View(rideable_type_number)"
   ]
  },
  {
   "cell_type": "code",
   "execution_count": null,
   "metadata": {
    "vscode": {
     "languageId": "r"
    }
   },
   "outputs": [],
   "source": []
  }
 ],
 "metadata": {
  "kernelspec": {
   "display_name": "R",
   "language": "R",
   "name": "ir"
  },
  "language_info": {
   "codemirror_mode": "r",
   "file_extension": ".r",
   "mimetype": "text/x-r-source",
   "name": "R",
   "pygments_lexer": "r",
   "version": "4.2.3"
  }
 },
 "nbformat": 4,
 "nbformat_minor": 2
}
